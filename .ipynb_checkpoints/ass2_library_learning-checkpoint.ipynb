{
 "cells": [
  {
   "cell_type": "markdown",
   "metadata": {
    "id": "ky7YpvDseB3C"
   },
   "source": [
    "# Assignment 2 - Symbolic Library Learning\n",
    "\n",
    "Note: this notebook is adapted from the work of Kavi Gupta, Atharva Sehgal, Maddy Bowers and Armando Solar-Lezama, all rights go to them.\n",
    "\n",
    "\n",
    "In this assignment we will try to come up with a DSL (Domain Specific Library) of functions.\n",
    "We will play around with a library called neurosym-lib, which provides a lot of tools to do neuro-symbolic program synthesis.\n",
    "\n",
    "In our case, we will keep things simple: we will find programs specified by our DSL that best fit some data via program enumeration. We will then try to understand how abstractions learning can help with this process.\n",
    "\n",
    "## Outline\n",
    "\n",
    "- Part 1: Defining a DSL (4 points)\n",
    "- Part 2: Finding Programs (3 points)\n",
    "- Part 3: Abstraction Learning (3 points)"
   ]
  },
  {
   "cell_type": "code",
   "execution_count": 1,
   "metadata": {
    "id": "bOdOCDkTeB3E"
   },
   "outputs": [],
   "source": [
    "#!pip install neurosym \n",
    "#Either install it via pip or if in colab, uncomment this line and run it\"\n",
    "# Note: make sure your python version is >= 3.10 or the import will not work!"
   ]
  },
  {
   "cell_type": "code",
   "execution_count": 2,
   "metadata": {
    "id": "vRhS-_1YzO0B"
   },
   "outputs": [
    {
     "name": "stdout",
     "output_type": "stream",
     "text": [
      "Python 3.12.7\n"
     ]
    }
   ],
   "source": [
    "# check python version is >=3.10\n",
    "!python --version"
   ]
  },
  {
   "cell_type": "code",
   "execution_count": 3,
   "metadata": {
    "id": "S7Z-p4fYeB3F"
   },
   "outputs": [],
   "source": [
    "import itertools\n",
    "import neurosym as ns\n",
    "import numpy as np\n",
    "import matplotlib.pyplot as plt"
   ]
  },
  {
   "cell_type": "markdown",
   "metadata": {
    "id": "IddDNFCreB3F"
   },
   "source": [
    "## Part 1: Defining a DSL (4 points)\n",
    "\n",
    "We would like to be able to define arithmetic functions, of various types.\n",
    "\n",
    "### Exercise 1A: Create a DSL\n",
    "\n",
    "We would like our DSL to be able to represent the following functions. **For future experiments, make sure you don't include cosine.**\n",
    "\n",
    "- $f_0(x) = x + 1$\n",
    "- $f_1(x) = x^2 + \\frac{x}{\\sin x}$\n",
    "- $f_2(x) = (x + 2)^x$\n",
    "- $f_3(x) = \\begin{cases}\n",
    "x^2 & x < 0\\\\\n",
    "\\sqrt {x^2 + 1} & x \\geq 0\\\\\n",
    "\\end{cases}$\n",
    "\n",
    "Note: this is what the function dslf.concrete() does:\n",
    "\n",
    "    concrete(self, symbol: str, type_str: str, semantics: object)\n",
    "        Add a concrete production to the DSL.\n",
    "\n",
    "        :param symbol: The symbol for the production.\n",
    "        :param type_str: The type string for the production.\n",
    "        :param semantics: The semantics to use for the production. This should have\n",
    "            a type corresponding to ``type_str``. Note: *this is not checked*.\n",
    "\n",
    "Meaning that the first parameter is the symbol you will use for the DSL primitive, the second is the type of the function, and the third is the actual python function implementation (using numpy functions here can be useful).\n",
    "\n",
    "Note: for the if-else function, we suggest making a general if-else with three arguments and one return. The first argument should be a function that given two inputs, returns a the outcome of a comparison (i.e. the \"<\" function provided, of type (f, f)-> c ).\n",
    "\n",
    "Then, the if-else function can have as input a parameter of type c, and two parameters of type f (the two option of the if-else).\n"
   ]
  },
  {
   "cell_type": "code",
   "execution_count": 4,
   "metadata": {
    "id": "XSFYEBGOeB3F"
   },
   "outputs": [],
   "source": [
    "dslf = ns.DSLFactory()\n",
    "dslf.concrete(\"0\", \"() -> f\", lambda: 0) # constant 0, no arguments\n",
    "dslf.concrete(\"1\", \"() -> f\", lambda: 1)\n",
    "dslf.concrete(\"sqrt\", \"(f) -> f\", np.sqrt) # square root, one argument\n",
    "dslf.concrete(\"*\", \"(f, f) -> f\", lambda x, y: x * y) # multiplication, two arguments\n",
    "dslf.concrete(\"<\", \"(f, f) -> c\", lambda x, y: x < y) # less than, two arguments, returns a boolean\n",
    "\n",
    "dslf.concrete(\"2\", \"() -> f\", lambda: 2)\n",
    "dslf.concrete(\"+\", \"(f, f) -> f\", lambda x, y: x + y) \n",
    "dslf.concrete(\"-\", \"(f, f) -> f\", lambda x, y: x - y) \n",
    "dslf.concrete(\"^\", \"(f, f) -> f\", lambda x, y: x ** y)\n",
    "dslf.concrete(\"/\", \"(f, f) -> f\", lambda x, y: x / y)\n",
    "dslf.concrete(\"sin\", \"(f) -> f\", np.sin)\n",
    "dslf.concrete(\"if-else\", \"(c, f, f) -> f\", lambda cond, x, y: x if cond else y)\n",
    "\n",
    "\n",
    "dslf.lambdas()\n",
    "dslf.prune_to(\"f -> f\")\n",
    "dsl = dslf.finalize()"
   ]
  },
  {
   "cell_type": "markdown",
   "metadata": {
    "id": "ET-2c6YGeB3F"
   },
   "source": [
    "### DSL Printout\n",
    "\n",
    "See your DSL printed below, and ensure it is what you would expect!"
   ]
  },
  {
   "cell_type": "code",
   "execution_count": 5,
   "metadata": {
    "id": "bEpLA3uWeB3G"
   },
   "outputs": [
    {
     "name": "stdout",
     "output_type": "stream",
     "text": [
      "              0 :: () -> f\n",
      "              1 :: () -> f\n",
      "           sqrt :: f -> f\n",
      "              * :: (f, f) -> f\n",
      "              < :: (f, f) -> c\n",
      "              2 :: () -> f\n",
      "              + :: (f, f) -> f\n",
      "              - :: (f, f) -> f\n",
      "              ^ :: (f, f) -> f\n",
      "              / :: (f, f) -> f\n",
      "            sin :: f -> f\n",
      "        if-else :: (c, f, f) -> f\n",
      "            lam :: L<#body|f> -> f -> #body\n",
      "           $0_0 :: V<f@0>\n"
     ]
    }
   ],
   "source": [
    "print(dsl.render())"
   ]
  },
  {
   "cell_type": "markdown",
   "metadata": {
    "id": "IrofhWUheB3G"
   },
   "source": [
    "### Exercise 1B: Write your functions\n",
    "\n",
    "We have provided $f_0$, it is up to you to write $f_1$ through $f_3$.\n",
    "\n",
    "How you represent your functions is by putting their symbol first, then their arguments afterwards. E.g. for the function x + 1, we get the function sum and add the parameters after, resulting in: \\+ x 1. Here both x and 1 are functions with no inputs, so we can report them like this\n",
    "\n",
    "Note that $0_0 represents the input variable x. Be sure to use in the other functions as well. Also remember the parenthesis like we have in the example below."
   ]
  },
  {
   "cell_type": "code",
   "execution_count": 6,
   "metadata": {
    "id": "Js86gSLbeB3G"
   },
   "outputs": [],
   "source": [
    "f_0 = \"(lam (+ ($0_0) (1)))\"\n",
    "f_1 = \"(lam (+ (^ ($0_0) (2)) (/ ($0_0) (sin ($0_0)))))\"\n",
    "f_2 = \"(lam (^ (+ ($0_0) (2)) ($0_0)))\"\n",
    "f_3 = \"(lam (if-else (< ($0_0) (0)) (^ ($0_0) (2)) (sqrt (+ (^ ($0_0) (2)) (1)))))\""
   ]
  },
  {
   "cell_type": "markdown",
   "metadata": {
    "id": "hMcX0nqhzAAH"
   },
   "source": [
    "Run the tests in the following cell to make sure your DSL and programs are working properly. If you have not defined the functions correctly, you will get an AssertionError."
   ]
  },
  {
   "cell_type": "code",
   "execution_count": 7,
   "metadata": {
    "id": "1avySn4DeB3G"
   },
   "outputs": [
    {
     "name": "stdout",
     "output_type": "stream",
     "text": [
      "All tests passed!\n"
     ]
    }
   ],
   "source": [
    "def test_program(actual_program, expected_fn):\n",
    "    actual_fn = dsl.compute(dsl.initialize(ns.parse_s_expression(actual_program)))\n",
    "    inputs = np.linspace(-1, 1, 100)\n",
    "    actual = np.array([actual_fn(x) for x in inputs])\n",
    "    expected = np.array([expected_fn(x) for x in inputs])\n",
    "    delta = np.abs(actual - expected)\n",
    "    bad = delta > 1e-5\n",
    "    if (~bad).all():\n",
    "        return\n",
    "    [[bad_input, *_]] = np.where(bad)\n",
    "    raise AssertionError(f\"On input {inputs[bad_input]}, expected {expected[bad_input]} but recvd {actual[bad_input]}\")\n",
    "\n",
    "test_program(f_0, lambda x: x + 1)\n",
    "test_program(f_1, lambda x: x ** 2 + x / np.sin(x))\n",
    "test_program(f_2, lambda x: (x + 2) ** x)\n",
    "test_program(f_3, lambda x: x ** 2 if x < 0 else (x ** 2 + 1) ** 0.5)\n",
    "print(\"All tests passed!\")"
   ]
  },
  {
   "cell_type": "markdown",
   "metadata": {
    "id": "cOmFzDejeB3G"
   },
   "source": [
    "## Part 2: Finding Programs (3 points)\n",
    "\n",
    "To begin with, we will build programs with our DSL by enumerating them. We will sample uniformly terms from our library, forming programs from this."
   ]
  },
  {
   "cell_type": "code",
   "execution_count": 8,
   "metadata": {
    "id": "MD_S3qM-eB3G"
   },
   "outputs": [],
   "source": [
    "dist_family = ns.BigramProgramDistributionFamily(dsl)\n",
    "uniform = dist_family.uniform()"
   ]
  },
  {
   "cell_type": "markdown",
   "metadata": {
    "id": "2lU7tEWNeB3G"
   },
   "source": [
    "We can enumerate programs from this distribution by running the `dist_family.enumerate` command.\n",
    "This produces an infinite stream of programs, which we can limit with `islice` as below:"
   ]
  },
  {
   "cell_type": "code",
   "execution_count": 9,
   "metadata": {
    "id": "C7rXmlNdeB3G"
   },
   "outputs": [
    {
     "name": "stdout",
     "output_type": "stream",
     "text": [
      "(lam ($0_0)) -2.4849066734313965\n",
      "(lam (0)) -2.4849066734313965\n",
      "(lam (1)) -2.4849066734313965\n",
      "(lam (2)) -2.4849066734313965\n",
      "(lam (sin ($0_0))) -4.969813346862793\n",
      "(lam (sin (0))) -4.969813346862793\n",
      "(lam (sin (1))) -4.969813346862793\n",
      "(lam (sin (2))) -4.969813346862793\n",
      "(lam (sqrt ($0_0))) -4.969813346862793\n",
      "(lam (sqrt (0))) -4.969813346862793\n",
      "(lam (sqrt (1))) -4.969813346862793\n",
      "(lam (sqrt (2))) -4.969813346862793\n",
      "(lam (* ($0_0) ($0_0))) -7.4547200202941895\n",
      "(lam (* ($0_0) (0))) -7.4547200202941895\n",
      "(lam (* ($0_0) (1))) -7.4547200202941895\n",
      "(lam (* ($0_0) (2))) -7.4547200202941895\n",
      "(lam (* (0) ($0_0))) -7.4547200202941895\n",
      "(lam (* (0) (0))) -7.4547200202941895\n",
      "(lam (* (0) (1))) -7.4547200202941895\n",
      "(lam (* (0) (2))) -7.4547200202941895\n",
      "(lam (* (1) ($0_0))) -7.4547200202941895\n",
      "(lam (* (1) (0))) -7.4547200202941895\n",
      "(lam (* (1) (1))) -7.4547200202941895\n",
      "(lam (* (1) (2))) -7.4547200202941895\n",
      "(lam (* (2) ($0_0))) -7.4547200202941895\n",
      "(lam (* (2) (0))) -7.4547200202941895\n",
      "(lam (* (2) (1))) -7.4547200202941895\n",
      "(lam (* (2) (2))) -7.4547200202941895\n",
      "(lam (+ ($0_0) ($0_0))) -7.4547200202941895\n",
      "(lam (+ ($0_0) (0))) -7.4547200202941895\n",
      "(lam (+ ($0_0) (1))) -7.4547200202941895\n",
      "(lam (+ ($0_0) (2))) -7.4547200202941895\n",
      "(lam (+ (0) ($0_0))) -7.4547200202941895\n",
      "(lam (+ (0) (0))) -7.4547200202941895\n",
      "(lam (+ (0) (1))) -7.4547200202941895\n",
      "(lam (+ (0) (2))) -7.4547200202941895\n",
      "(lam (+ (1) ($0_0))) -7.4547200202941895\n",
      "(lam (+ (1) (0))) -7.4547200202941895\n",
      "(lam (+ (1) (1))) -7.4547200202941895\n",
      "(lam (+ (1) (2))) -7.4547200202941895\n",
      "(lam (+ (2) ($0_0))) -7.4547200202941895\n",
      "(lam (+ (2) (0))) -7.4547200202941895\n",
      "(lam (+ (2) (1))) -7.4547200202941895\n",
      "(lam (+ (2) (2))) -7.4547200202941895\n",
      "(lam (- ($0_0) ($0_0))) -7.4547200202941895\n",
      "(lam (- ($0_0) (0))) -7.4547200202941895\n",
      "(lam (- ($0_0) (1))) -7.4547200202941895\n",
      "(lam (- ($0_0) (2))) -7.4547200202941895\n",
      "(lam (- (0) ($0_0))) -7.4547200202941895\n",
      "(lam (- (0) (0))) -7.4547200202941895\n"
     ]
    }
   ],
   "source": [
    "for prog, like in itertools.islice(dist_family.enumerate(uniform), 50):\n",
    "    print(ns.render_s_expression(prog), like)"
   ]
  },
  {
   "cell_type": "markdown",
   "metadata": {
    "id": "1BNAPVoQzAAI"
   },
   "source": [
    "What are the programs with the highest likelihood? Can you briefly explain why?\n",
    "\n",
    "**Your answer:** The programs with the highest likelihood are the ones that are simple, containing only constants and no operators. These programs are more likely to be selected. \n",
    "\n",
    "- (lam ($0_0)) -2.397895336151123\n",
    "- (lam (0)) -2.397895336151123\n",
    "- (lam (1)) -2.397895336151123\n",
    "- (lam (2)) -2.397895336151123"
   ]
  },
  {
   "cell_type": "markdown",
   "metadata": {
    "id": "NlOIFmDQeB3H"
   },
   "source": [
    "### Exercise 2: Finding a program\n",
    "\n",
    "Finish the following function below, which, given a distribution, a list of inputs and a list of outputs, finds a program matching those inputs and outputs, within epsilon at all locations. It might be helpful to look at the `test_program` method above to see how to run programs.\n",
    "\n",
    "Important detail: you will want to handle errors and `nan` values gracefully. For this, we provide the `run_safely` function, that takes a function and input and runs it, returning `None` if its output is `nan` or an error."
   ]
  },
  {
   "cell_type": "markdown",
   "metadata": {
    "id": "jSWbr66beB3H"
   },
   "source": [
    "Let's look at what types of programs our search is finding for some functions we provide!"
   ]
  },
  {
   "cell_type": "code",
   "execution_count": 10,
   "metadata": {},
   "outputs": [],
   "source": [
    "def run_safely(f, x):\n",
    "    try:\n",
    "        y = f(x)\n",
    "    except:\n",
    "        return None\n",
    "    if np.isnan(y):\n",
    "        return None\n",
    "    return y\n",
    "\n",
    "def find_program(dist, inputs, outputs, epsilon):\n",
    "    for prog, _ in dist_family.enumerate(dist):\n",
    "        fn = dsl.compute(dsl.initialize(prog))\n",
    "        for i in range(len(inputs)):\n",
    "            x = inputs[i]\n",
    "            output = run_safely(fn, x)\n",
    "            if output is None or (np.abs(output-outputs[i]) > epsilon):\n",
    "                found_prog = False\n",
    "                break\n",
    "            else:\n",
    "                found_prog = True\n",
    "        if found_prog == True:\n",
    "            return prog\n",
    "    return None"
   ]
  },
  {
   "cell_type": "code",
   "execution_count": 11,
   "metadata": {
    "id": "FN_4P4O8eB3H"
   },
   "outputs": [
    {
     "name": "stderr",
     "output_type": "stream",
     "text": [
      "C:\\Users\\Marcus Hansen\\AppData\\Roaming\\Python\\Python312\\site-packages\\neurosym\\dsl\\production.py:160: RuntimeWarning: invalid value encountered in sqrt\n",
      "  return self._compute(*inputs)\n",
      "C:\\Users\\Marcus Hansen\\AppData\\Local\\Temp\\ipykernel_13516\\1634295113.py:12: RuntimeWarning: divide by zero encountered in scalar divide\n",
      "  dslf.concrete(\"/\", \"(f, f) -> f\", lambda x, y: x / y)\n",
      "C:\\Users\\Marcus Hansen\\AppData\\Local\\Temp\\ipykernel_13516\\1634295113.py:11: RuntimeWarning: divide by zero encountered in scalar power\n",
      "  dslf.concrete(\"^\", \"(f, f) -> f\", lambda x, y: x ** y)\n",
      "C:\\Users\\Marcus Hansen\\AppData\\Local\\Temp\\ipykernel_13516\\1634295113.py:12: RuntimeWarning: invalid value encountered in scalar divide\n",
      "  dslf.concrete(\"/\", \"(f, f) -> f\", lambda x, y: x / y)\n",
      "C:\\Users\\Marcus Hansen\\AppData\\Local\\Temp\\ipykernel_13516\\1634295113.py:11: RuntimeWarning: invalid value encountered in scalar power\n",
      "  dslf.concrete(\"^\", \"(f, f) -> f\", lambda x, y: x ** y)\n",
      "C:\\Users\\Marcus Hansen\\AppData\\Roaming\\Python\\Python312\\site-packages\\neurosym\\dsl\\production.py:160: RuntimeWarning: invalid value encountered in sin\n",
      "  return self._compute(*inputs)\n"
     ]
    },
    {
     "name": "stdout",
     "output_type": "stream",
     "text": [
      "(lam (* ($0_0) (2)))\n",
      "(lam (sqrt (* ($0_0) ($0_0))))\n",
      "(lam ($0_0))\n",
      "(lam (* ($0_0) ($0_0)))\n"
     ]
    },
    {
     "name": "stderr",
     "output_type": "stream",
     "text": [
      "C:\\Users\\Marcus Hansen\\AppData\\Local\\Temp\\ipykernel_13516\\1634295113.py:5: RuntimeWarning: invalid value encountered in scalar multiply\n",
      "  dslf.concrete(\"*\", \"(f, f) -> f\", lambda x, y: x * y) # multiplication, two arguments\n"
     ]
    },
    {
     "name": "stdout",
     "output_type": "stream",
     "text": [
      "(lam (sqrt (+ (* ($0_0) ($0_0)) (1))))\n"
     ]
    }
   ],
   "source": [
    "def find_program_for_function(dist, fn, epsilon):\n",
    "    inputs = np.linspace(-2, 2)\n",
    "    outputs = fn(inputs)\n",
    "    return find_program(dist, inputs, outputs, epsilon)\n",
    "\n",
    "print(ns.render_s_expression(find_program_for_function(uniform, lambda x: x * 2, 0)))\n",
    "print(ns.render_s_expression(find_program_for_function(uniform, np.abs, 0.001)))\n",
    "print(ns.render_s_expression(find_program_for_function(uniform, lambda x: x + 0.05, 0.1)))\n",
    "print(ns.render_s_expression(find_program_for_function(uniform, lambda x: x ** 2, 0.1)))\n",
    "print(ns.render_s_expression(find_program_for_function(uniform, lambda x: (x ** 2 + 1) ** 0.5, 0.1)))"
   ]
  },
  {
   "cell_type": "markdown",
   "metadata": {
    "id": "CN1pkVLazAAJ"
   },
   "source": [
    "Run the tests to assure that the programs you are finding are the expected ones:"
   ]
  },
  {
   "cell_type": "code",
   "execution_count": 12,
   "metadata": {
    "id": "puA3cr6OzAAJ"
   },
   "outputs": [
    {
     "name": "stderr",
     "output_type": "stream",
     "text": [
      "C:\\Users\\Marcus Hansen\\AppData\\Local\\Temp\\ipykernel_13516\\1634295113.py:12: RuntimeWarning: divide by zero encountered in scalar divide\n",
      "  dslf.concrete(\"/\", \"(f, f) -> f\", lambda x, y: x / y)\n",
      "C:\\Users\\Marcus Hansen\\AppData\\Local\\Temp\\ipykernel_13516\\1634295113.py:11: RuntimeWarning: divide by zero encountered in scalar power\n",
      "  dslf.concrete(\"^\", \"(f, f) -> f\", lambda x, y: x ** y)\n",
      "C:\\Users\\Marcus Hansen\\AppData\\Local\\Temp\\ipykernel_13516\\1634295113.py:12: RuntimeWarning: invalid value encountered in scalar divide\n",
      "  dslf.concrete(\"/\", \"(f, f) -> f\", lambda x, y: x / y)\n",
      "C:\\Users\\Marcus Hansen\\AppData\\Local\\Temp\\ipykernel_13516\\1634295113.py:11: RuntimeWarning: invalid value encountered in scalar power\n",
      "  dslf.concrete(\"^\", \"(f, f) -> f\", lambda x, y: x ** y)\n"
     ]
    }
   ],
   "source": [
    "assert ns.render_s_expression(find_program_for_function(uniform, lambda x: x * 2, 0)) == '(lam (* ($0_0) (2)))'\n",
    "assert ns.render_s_expression(find_program_for_function(uniform, np.abs, 0.001)) == '(lam (sqrt (* ($0_0) ($0_0))))'\n",
    "assert ns.render_s_expression(find_program_for_function(uniform, lambda x: x + 0.05, 0.1)) == '(lam ($0_0))'"
   ]
  },
  {
   "cell_type": "markdown",
   "metadata": {
    "id": "7v2WumtleB3H"
   },
   "source": [
    "You will notice in the second test above, the enumerator came up with a \"creative\" solution to the absolute value problem. This is because this ended up being an easier to find solution than the more obvious if-then-else program we might have come up, given our DSL:\n",
    "\n",
    " -x if x < 0 else x\n",
    "\n",
    "which in the DSL syntax, given some functions ite (if-then-else), < and - are defined, looks like:\n",
    "\n",
    " `(lam (ite (< ($0_0) (0)) (- (0) ($0_0)) ($0_0)))`\n",
    "\n",
    "\n",
    "\n",
    "The following cell will take slightly longer to run, but you can see that it is able to identify a solution for $\\cos^2 \\theta$"
   ]
  },
  {
   "cell_type": "code",
   "execution_count": 13,
   "metadata": {
    "id": "h9yLMj8reB3H"
   },
   "outputs": [
    {
     "name": "stderr",
     "output_type": "stream",
     "text": [
      "C:\\Users\\Marcus Hansen\\AppData\\Local\\Temp\\ipykernel_13516\\1634295113.py:12: RuntimeWarning: divide by zero encountered in scalar divide\n",
      "  dslf.concrete(\"/\", \"(f, f) -> f\", lambda x, y: x / y)\n",
      "C:\\Users\\Marcus Hansen\\AppData\\Local\\Temp\\ipykernel_13516\\1634295113.py:11: RuntimeWarning: divide by zero encountered in scalar power\n",
      "  dslf.concrete(\"^\", \"(f, f) -> f\", lambda x, y: x ** y)\n",
      "C:\\Users\\Marcus Hansen\\AppData\\Local\\Temp\\ipykernel_13516\\1634295113.py:12: RuntimeWarning: invalid value encountered in scalar divide\n",
      "  dslf.concrete(\"/\", \"(f, f) -> f\", lambda x, y: x / y)\n",
      "C:\\Users\\Marcus Hansen\\AppData\\Local\\Temp\\ipykernel_13516\\1634295113.py:11: RuntimeWarning: invalid value encountered in scalar power\n",
      "  dslf.concrete(\"^\", \"(f, f) -> f\", lambda x, y: x ** y)\n",
      "C:\\Users\\Marcus Hansen\\AppData\\Local\\Temp\\ipykernel_13516\\1634295113.py:5: RuntimeWarning: invalid value encountered in scalar multiply\n",
      "  dslf.concrete(\"*\", \"(f, f) -> f\", lambda x, y: x * y) # multiplication, two arguments\n"
     ]
    },
    {
     "data": {
      "text/plain": [
       "'(lam (- (1) (^ (sin ($0_0)) (2))))'"
      ]
     },
     "execution_count": 13,
     "metadata": {},
     "output_type": "execute_result"
    }
   ],
   "source": [
    "ns.render_s_expression(find_program_for_function(uniform, lambda x: np.cos(x) ** 2, 0.001))"
   ]
  },
  {
   "cell_type": "markdown",
   "metadata": {
    "id": "z3fQD0Z1zAAJ"
   },
   "source": [
    "What primitive do we need to add to our library to be able to find a program for $\\cos \\theta$? (Remember, you are not allowed to add directly $\\cos$! Think back to trigonometric formulas...) Go back to where you have defined your DSL and add it, then come back to the next cell."
   ]
  },
  {
   "cell_type": "code",
   "execution_count": 15,
   "metadata": {
    "id": "uJlstj4_zAAJ"
   },
   "outputs": [],
   "source": [
    "ns.render_s_expression(find_program_for_function(uniform, lambda x: np.cos(x), 0.001))"
   ]
  },
  {
   "cell_type": "markdown",
   "metadata": {
    "id": "3kehMI-LzAAJ"
   },
   "source": [
    "What did you add?\n",
    "\n",
    "Your answer: We added the primitive function minus as $\\verb|dslf.concrete(\"-\", \"(f, f) -> f\", lambda x, y: x - y)|$. Now the functioncan represent $cos(\\theta)$ as $\\sqrt{1-sin^2(\\theta)}$"
   ]
  },
  {
   "cell_type": "markdown",
   "metadata": {
    "id": "EFAdIBr8eB3H"
   },
   "source": [
    "## Part 3: Abstraction Learning (3 points)\n",
    "\n",
    "Here we will try to understand how we can do better than just sampling programs uniformly at random when we have some data we want to find programs for, and how abstractions can help within this process.\n",
    "\n",
    "We start by introducing a dataset of smoothed sequences. These sequences have values roughly in the range $[-2, 2]$. We generate this data below:"
   ]
  },
  {
   "cell_type": "code",
   "execution_count": null,
   "metadata": {
    "id": "09obgP-meB3H"
   },
   "outputs": [],
   "source": [
    "num_sequences = 1000\n",
    "len_sequences = 100\n",
    "xs = np.linspace(-10, 10, len_sequences, dtype=np.float32)\n",
    "slack = 20\n",
    "stride = 4\n",
    "values = np.random.RandomState(1).rand(num_sequences, len_sequences + slack) * 4 - 2\n",
    "values = np.mean([values[:, i:i + len_sequences] for i in range(slack)], axis=0)\n",
    "values *= np.sqrt(slack)\n",
    "values = values[:, ::stride]\n",
    "values = values.astype(np.float32)\n",
    "xs = xs[::stride]\n",
    "\n",
    "plot_count = 3\n",
    "\n",
    "def plot_some_sequences():\n",
    "    for i in range(plot_count):\n",
    "        plt.plot(xs, values[i], color=f\"C{i}\", alpha=0.25)\n",
    "        plt.scatter(xs, values[i], color=f\"C{i}\", marker=\".\")"
   ]
  },
  {
   "cell_type": "code",
   "execution_count": null,
   "metadata": {
    "id": "KHgqelgaeB3H"
   },
   "outputs": [],
   "source": [
    "plot_some_sequences()"
   ]
  },
  {
   "cell_type": "markdown",
   "metadata": {
    "id": "nsgvLKWbeB3I"
   },
   "source": [
    "We provide a function for finding the best program out of a list that matches a given data sequence:"
   ]
  },
  {
   "cell_type": "code",
   "execution_count": null,
   "metadata": {
    "id": "77I-dm8peB3I"
   },
   "outputs": [],
   "source": [
    "def evaluate_all_programs(dsl, programs):\n",
    "    filtered_programs, evaluations = [], []\n",
    "    for prog in programs:\n",
    "        try:\n",
    "            actual_fn = dsl.compute(dsl.initialize(prog))\n",
    "        except:\n",
    "            continue\n",
    "        ys = []\n",
    "        for inp in xs:\n",
    "            y = run_safely(actual_fn, inp)\n",
    "            if y is None or not (-2 <= y <= 2):\n",
    "                break\n",
    "            ys.append(y)\n",
    "        else:\n",
    "            filtered_programs.append(prog)\n",
    "            evaluations.append(ys)\n",
    "    return filtered_programs, np.array(evaluations)\n",
    "\n",
    "def best_fits(dsl, family, dist):\n",
    "    programs = [prog for prog, _ in itertools.islice(family.enumerate(dist), 5000)]\n",
    "    programs = sorted(programs, key=lambda x: len(ns.render_s_expression(x)))\n",
    "    filtered_programs, ys = evaluate_all_programs(dsl, programs)\n",
    "    errors = ((ys[None] - values[:,None]) ** 2).sum(-1)\n",
    "    program_idxs = errors.argmin(1)\n",
    "    print(\"Mean error: \", errors.min(1).mean())\n",
    "    return [filtered_programs[i] for i in program_idxs]\n",
    "\n",
    "def plot_programs_against_data(dsl, best_programs):\n",
    "    plot_some_sequences()\n",
    "    best_programs = best_programs[:plot_count]\n",
    "    _, evals = evaluate_all_programs(dsl, best_programs)\n",
    "    for prog, ev in zip(best_programs, evals):\n",
    "        plt.plot(xs, ev, label=ns.render_s_expression(prog).replace(\"$\", r\"\\$\"))\n",
    "    plt.legend()"
   ]
  },
  {
   "cell_type": "markdown",
   "metadata": {
    "id": "B-yZCMHheB3I"
   },
   "source": [
    "Now we find the best programs among the first 50k enumerated programs"
   ]
  },
  {
   "cell_type": "code",
   "execution_count": null,
   "metadata": {
    "id": "7t1LwsmyeB3I"
   },
   "outputs": [],
   "source": [
    "best_programs = best_fits(dsl, dist_family, uniform)"
   ]
  },
  {
   "cell_type": "code",
   "execution_count": null,
   "metadata": {
    "id": "MgHUOqCxeB3I"
   },
   "outputs": [],
   "source": [
    "plot_programs_against_data(dsl, best_programs)"
   ]
  },
  {
   "cell_type": "markdown",
   "metadata": {
    "id": "pS_LozRreB3I"
   },
   "source": [
    "### Exercise 3A: Fitting a DSL\n",
    "\n",
    "Now we will refine our search. First, we fit a distribution to the `best_programs`. We will bound the minimum likelihood of each symbol at 0.01, but feel free to try and change it. If you do so, comment on the result:\n",
    "\n",
    "...\n",
    "\n",
    "Check with the functions defined above how the mean error changes now that we have fitted the distribution to the best programs, and plot the new programs like above:"
   ]
  },
  {
   "cell_type": "code",
   "execution_count": null,
   "metadata": {
    "id": "aEjNjFVYeB3J"
   },
   "outputs": [],
   "source": [
    "fitted_dist = dist_family.fit_distribution(best_programs).bound_minimum_likelihood(0.01)\n"
   ]
  },
  {
   "cell_type": "code",
   "execution_count": null,
   "metadata": {
    "id": "HUyDkyejeB3J"
   },
   "outputs": [],
   "source": [
    "# Check that the fitted distribution actually makes the error smaller\n",
    "\n",
    "best_programs_fitted = ..."
   ]
  },
  {
   "cell_type": "code",
   "execution_count": null,
   "metadata": {
    "id": "zB7z6pAYeB3J"
   },
   "outputs": [],
   "source": [
    "# Plot the best programs\n",
    "plot_count = 4\n",
    "..."
   ]
  },
  {
   "cell_type": "markdown",
   "metadata": {
    "id": "-41FKzBjeB3K"
   },
   "source": [
    "### Exercise 3B: Abstractions\n",
    "\n",
    "Let's now introduce abstractions to our DSL. This means going through the best programs we have already found, find common subsequences, and abstract them into new symbols of our DSL.\n",
    "\n",
    "We will introduce 5 new abstractions. Once done, obtain a new distribution family from the new DSL as we have done before, and then fit a distribution from that family to the rewritten programs. Bound also that distribution to a minimum likelihood of 0.01:"
   ]
  },
  {
   "cell_type": "code",
   "execution_count": null,
   "metadata": {
    "id": "qFW7aS9aeB3K"
   },
   "outputs": [],
   "source": [
    "abstraction_dsl, rewritten = ns.compression.multi_step_compression(dsl, best_programs_fitted, 5)\n",
    "abstraction_family = ...\n",
    "abstraction_dist = ...\n"
   ]
  },
  {
   "cell_type": "markdown",
   "metadata": {
    "id": "Cr15IbaseB3K"
   },
   "source": [
    "Visualize your dsl and the new abstractions that have been introduced."
   ]
  },
  {
   "cell_type": "code",
   "execution_count": null,
   "metadata": {
    "id": "oVNyh39deB3K"
   },
   "outputs": [],
   "source": [
    "# visualize dsl\n",
    "..."
   ]
  },
  {
   "cell_type": "markdown",
   "metadata": {
    "id": "rRlt-ulLzAAP"
   },
   "source": [
    "Can you understand which functions do the abstractions introduced refer to? (Note: #number in the definition of the abstraction refer to a input parameter.)\n",
    "\n",
    "Your answer:\n",
    "\n",
    "1. ...\n",
    "\n",
    "2. ...\n",
    "\n",
    "3. ...\n",
    "\n",
    "4. ...\n",
    "\n",
    "5. ..."
   ]
  },
  {
   "cell_type": "markdown",
   "metadata": {
    "id": "5QVVRPrGeB3K"
   },
   "source": [
    "Now check that the abstractions have had a positive effect to the mean error."
   ]
  },
  {
   "cell_type": "code",
   "execution_count": null,
   "metadata": {
    "id": "rU3Evb9teB3K"
   },
   "outputs": [],
   "source": [
    "best_programs_abstractions = ..."
   ]
  },
  {
   "cell_type": "markdown",
   "metadata": {
    "id": "53_6WbQWzAAQ"
   },
   "source": [
    "Finally, let's plot some programs against the data and see how they fit:"
   ]
  },
  {
   "cell_type": "code",
   "execution_count": null,
   "metadata": {
    "id": "tFWS1gEgeB3L"
   },
   "outputs": [],
   "source": [
    "..."
   ]
  },
  {
   "cell_type": "markdown",
   "metadata": {
    "id": "o5YNBcrMzAAQ"
   },
   "source": [
    "Hopefully, by now you understand how abstractions are important and how they make it easier to find better and better programs the more we intertwine search and introduction of abstractions.\n",
    "\n",
    "We search for programs, introduce abstractions, find better programs with the abstractions, then introduce more asbtractions... and so on! Dreamcoder, which you have seen in the lectures, is a great example of this mechanism, and the results they obtain in their paper (https://arxiv.org/abs/2006.08381) is a testament of how powerful methods that combine library learning with neural networks can be."
   ]
  }
 ],
 "metadata": {
  "colab": {
   "provenance": []
  },
  "kernelspec": {
   "display_name": "Python 3 (ipykernel)",
   "language": "python",
   "name": "python3"
  },
  "language_info": {
   "codemirror_mode": {
    "name": "ipython",
    "version": 3
   },
   "file_extension": ".py",
   "mimetype": "text/x-python",
   "name": "python",
   "nbconvert_exporter": "python",
   "pygments_lexer": "ipython3",
   "version": "3.12.7"
  }
 },
 "nbformat": 4,
 "nbformat_minor": 4
}
